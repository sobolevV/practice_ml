{
 "cells": [
  {
   "cell_type": "code",
   "execution_count": null,
   "metadata": {},
   "outputs": [],
   "source": [
    "import torch"
   ]
  },
  {
   "cell_type": "code",
   "execution_count": null,
   "metadata": {},
   "outputs": [],
   "source": [
    "torch.cuda.set_device(torch.device('cuda:0'))"
   ]
  },
  {
   "cell_type": "code",
   "execution_count": null,
   "metadata": {},
   "outputs": [],
   "source": [
    "class NeuralNet(torch.nn.Module):\n",
    "    \n",
    "    def __init__(self, input_size, hidden_layer_size, output_size):\n",
    "        super().__init__()\n",
    "        \n",
    "        self.layer_1 = torch.nn.Linear(input_size, hidden_layer_size)\n",
    "        self.layer_2 = torch.nn.Linear(hidden_layer_size, output_size)\n",
    "        self.relu = torch.nn.ReLU()\n",
    "        self.activation = torch.nn.Sigmoid()\n",
    "        \n",
    "    def forward(self, input_x):\n",
    "        hidden_res = self.layer_1(input_x)\n",
    "        hidden_activ = self.relu(hidden_res)\n",
    "        output = self.layer_2(hidden_activ)\n",
    "        \n",
    "        return self.activation(output)"
   ]
  },
  {
   "cell_type": "code",
   "execution_count": null,
   "metadata": {},
   "outputs": [],
   "source": [
    "class Net(torch.nn.Module):\n",
    "    \n",
    "    def __init__(self):\n",
    "        super().__init__()\n",
    "        self.fc1 = torch.nn.Linear(13, 50)\n",
    "        self.relu1 = torch.nn.ReLU()\n",
    "        self.out = torch.nn.Linear(50, 1)\n",
    "        self.out_act = torch.nn.Sigmoid()\n",
    "        \n",
    "    def forward(self, input_):\n",
    "        a1 = self.fc1(input_)\n",
    "        h1 = self.relu1(a1)\n",
    "        a2 = self.out(h1)\n",
    "        y = self.out_act(a2)\n",
    "        return y"
   ]
  },
  {
   "cell_type": "code",
   "execution_count": null,
   "metadata": {},
   "outputs": [],
   "source": [
    "import pandas as pd\n",
    "import numpy as np\n",
    "import matplotlib.pyplot as plt"
   ]
  },
  {
   "cell_type": "code",
   "execution_count": null,
   "metadata": {},
   "outputs": [],
   "source": [
    "def get_DataLoaders_from_csv(file_name, y_column, batch_size=32, valid_size=0.25):\n",
    "    df = pd.read_csv(file_name).astype(float)\n",
    "    df = df.sample(frac=1)  # shuffle dataframe\n",
    "    train_size, valid_size = int(df.shape[0]*(1-valid_size)), int(df.shape[0]*(valid_size))\n",
    "    print(f\"train size = {train_size}, validation size = {valid_size}\")\n",
    "    \n",
    "    y_train_np_data, y_valid_np_data = df[y_column].head(train_size).values, df[y_column].tail(valid_size).values\n",
    "    x_train_np_data, x_valid_np_data = (df.drop(columns=[y_column]).head(train_size).values, \n",
    "                                        df.drop(columns=[y_column]).head(valid_size).values)\n",
    "    \n",
    "    y_train_tensor, y_valid_tensor = torch.from_numpy(y_train_np_data).view(-1, 1), torch.from_numpy(y_valid_np_data).view(-1, 1)\n",
    "    x_train_tensor, x_valid_tensor = torch.from_numpy(x_train_np_data), torch.from_numpy(x_valid_np_data)\n",
    "    \n",
    "    tensor_ds_train = torch.utils.data.TensorDataset(x_train_tensor, y_train_tensor)  # create TRAIN tensor dataset\n",
    "    tensor_ds_valid = torch.utils.data.TensorDataset(x_valid_tensor, y_valid_tensor)  # create VALID tensor dataset\n",
    "    \n",
    "    tensor_dl_train = torch.utils.data.DataLoader(tensor_ds_train, batch_size=batch_size, shuffle=True)\n",
    "    tensor_dl_valid = torch.utils.data.DataLoader(tensor_ds_valid, batch_size=batch_size*2)\n",
    "    \n",
    "    return (tensor_dl_train, tensor_dl_valid)"
   ]
  },
  {
   "cell_type": "code",
   "execution_count": null,
   "metadata": {},
   "outputs": [],
   "source": [
    "train_dl, valid_dl = get_DataLoaders_from_csv('train_transformed.csv', 'Survived')"
   ]
  },
  {
   "cell_type": "code",
   "execution_count": null,
   "metadata": {},
   "outputs": [],
   "source": [
    "def preprocess(x, y, input_size, device):\n",
    "    return x.view(-1, input_size), y\n",
    "\n",
    "\n",
    "class WrappedDataLoader:\n",
    "    def __init__(self, dl, func):\n",
    "        self.dl = dl\n",
    "        self.func = func\n",
    "        self.dev =  torch.device(\"cuda:0\") if torch.cuda.is_available() else torch.device(\"cpu\")\n",
    "    \n",
    "    def __len__(self):\n",
    "        return len(self.dl)\n",
    "\n",
    "    def __iter__(self):\n",
    "        batches = iter(self.dl)\n",
    "        for x_batch, y_batch in batches:\n",
    "            yield (self.func(x_batch, y_batch, x_batch.shape[-1], self.dev))"
   ]
  },
  {
   "cell_type": "code",
   "execution_count": null,
   "metadata": {},
   "outputs": [],
   "source": [
    "warped_train_dl = WrappedDataLoader(train_dl, preprocess)\n",
    "warped_valid_dl = WrappedDataLoader(valid_dl, preprocess)"
   ]
  }
 ],
 "metadata": {
  "kernelspec": {
   "display_name": "Python [conda env:torch_env] *",
   "language": "python",
   "name": "conda-env-torch_env-py"
  },
  "language_info": {
   "codemirror_mode": {
    "name": "ipython",
    "version": 3
   },
   "file_extension": ".py",
   "mimetype": "text/x-python",
   "name": "python",
   "nbconvert_exporter": "python",
   "pygments_lexer": "ipython3",
   "version": "3.8.5"
  }
 },
 "nbformat": 4,
 "nbformat_minor": 4
}
