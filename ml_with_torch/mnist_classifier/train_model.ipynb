{
 "cells": [
  {
   "cell_type": "code",
   "execution_count": 1,
   "metadata": {},
   "outputs": [],
   "source": [
    "from torch import nn\n",
    "import torch\n",
    "import numpy as np\n",
    "import matplotlib.pyplot as plt\n",
    "import torch.nn.functional as F"
   ]
  },
  {
   "cell_type": "code",
   "execution_count": 2,
   "metadata": {},
   "outputs": [],
   "source": [
    "def one_hot_encoding(y_array):\n",
    "    from sklearn.preprocessing import LabelBinarizer\n",
    "    enc = LabelBinarizer()\n",
    "    return enc.fit_transform(y_array)"
   ]
  },
  {
   "cell_type": "markdown",
   "metadata": {},
   "source": [
    "### Load data from csv and transform to DataLoader"
   ]
  },
  {
   "cell_type": "code",
   "execution_count": 53,
   "metadata": {},
   "outputs": [],
   "source": [
    "def load_data_from_csv(file_name, y_column, batch_size=32, valid_size=0.25):\n",
    "    import pandas as pd\n",
    "    \n",
    "    df = pd.read_csv(file_name).astype(float)\n",
    "    df = df.sample(frac=1)  # shuffle dataframe\n",
    "    train_size, valid_size = int(df.shape[0]*(1-valid_size)), int(df.shape[0]*(valid_size))\n",
    "    print(f\"train size = {train_size}, validation size = {valid_size}\")\n",
    "    \n",
    "    y_train_np_data, y_valid_np_data = df[y_column].head(train_size).values, df[y_column].tail(valid_size).values\n",
    "    x_train_np_data, x_valid_np_data = (df.drop(columns=[y_column]).head(train_size).values, \n",
    "                                        df.drop(columns=[y_column]).tail(valid_size).values)\n",
    "    \n",
    "    x_train_np_data, x_valid_np_data = x_train_np_data / 255., x_valid_np_data / 255.  # Normalize data\n",
    "    x_train_np_data, x_valid_np_data = x_train_np_data.astype(np.float), x_valid_np_data.astype(np.float)\n",
    "    \n",
    "    # Encode data\n",
    "    y_train_np_data, y_valid_np_data = (one_hot_encoding(y_train_np_data).astype(np.float), \n",
    "                                        one_hot_encoding(y_valid_np_data).astype(np.float))\n",
    "    \n",
    "    print(f\"X train shape = {x_train_np_data.shape}, Y train shape = {y_train_np_data.shape}\")\n",
    "    \n",
    "    y_train_tensor, y_valid_tensor = torch.from_numpy(y_train_np_data), torch.from_numpy(y_valid_np_data)\n",
    "    x_train_tensor, x_valid_tensor = torch.from_numpy(x_train_np_data), torch.from_numpy(x_valid_np_data)\n",
    "    \n",
    "    tensor_ds_train = torch.utils.data.TensorDataset(x_train_tensor, y_train_tensor)  # create TRAIN tensor dataset\n",
    "    tensor_ds_valid = torch.utils.data.TensorDataset(x_valid_tensor, y_valid_tensor)  # create VALID tensor dataset\n",
    "    \n",
    "    tensor_dl_train = torch.utils.data.DataLoader(tensor_ds_train, batch_size=batch_size, shuffle=True)\n",
    "    tensor_dl_valid = torch.utils.data.DataLoader(tensor_ds_valid, batch_size=batch_size*2)\n",
    "    \n",
    "    return (tensor_dl_train, tensor_dl_valid)"
   ]
  },
  {
   "cell_type": "code",
   "execution_count": 54,
   "metadata": {},
   "outputs": [
    {
     "name": "stdout",
     "output_type": "stream",
     "text": [
      "train size = 31500, validation size = 10500\n",
      "X train shape = (31500, 784), Y train shape = (31500, 10)\n"
     ]
    }
   ],
   "source": [
    "train_dl, valid_dl = load_data_from_csv(file_name='mnist_dataset\\\\train.csv', y_column='label')"
   ]
  },
  {
   "cell_type": "markdown",
   "metadata": {},
   "source": [
    "### Define neural network"
   ]
  },
  {
   "cell_type": "code",
   "execution_count": 8,
   "metadata": {},
   "outputs": [],
   "source": [
    "class ClassificationNet(nn.Module):\n",
    "    \n",
    "    def __init__(self, input_size, hidden_size, output_size):\n",
    "        super().__init__()\n",
    "        \n",
    "        self.hidden = nn.Linear(input_size, hidden_size)\n",
    "        self.output = nn.Linear(hidden_size, output_size)\n",
    "        self.activation = nn.Softmax()\n",
    "        \n",
    "    def forward(self, x):\n",
    "        h_out = self.hidden(x)\n",
    "        y_out = self.output(h_out)\n",
    "        \n",
    "        return self.activation(y_out)"
   ]
  },
  {
   "cell_type": "markdown",
   "metadata": {},
   "source": [
    "#### Define generator with loading to special device"
   ]
  },
  {
   "cell_type": "code",
   "execution_count": 9,
   "metadata": {},
   "outputs": [],
   "source": [
    "def preprocess(x, y, input_size, device):\n",
    "    return x.view(-1, input_size), y # .to(device)\n",
    "\n",
    "class WrappedDataLoader:\n",
    "    def __init__(self, dl, func):\n",
    "        self.dl = dl\n",
    "        self.func = func\n",
    "        self.dev = torch.device(0) if torch.cuda.is_available() else torch.device(\"cpu\")\n",
    "    \n",
    "    def __len__(self):\n",
    "        return len(self.dl)\n",
    "\n",
    "    def __iter__(self):\n",
    "        batches = iter(self.dl)\n",
    "        for x_batch, y_batch in batches:\n",
    "            yield (self.func(x_batch, y_batch, x_batch.shape[-1], self.dev))"
   ]
  },
  {
   "cell_type": "markdown",
   "metadata": {},
   "source": [
    "### Define accuracy"
   ]
  },
  {
   "cell_type": "code",
   "execution_count": 10,
   "metadata": {},
   "outputs": [],
   "source": [
    "def accuracy(out, yb):\n",
    "    preds = torch.argmax(out, dim=1)\n",
    "    y_labels = torch.argmax(yb, dim=1)\n",
    "    return torch.mean((preds == y_labels).float())"
   ]
  },
  {
   "cell_type": "code",
   "execution_count": 11,
   "metadata": {},
   "outputs": [],
   "source": [
    "# warped_train = WrappedDataLoader(train_dl, preprocess)"
   ]
  },
  {
   "cell_type": "code",
   "execution_count": 82,
   "metadata": {},
   "outputs": [],
   "source": [
    "# Init model\n",
    "model = ClassificationNet(784, 10, 10).double()\n",
    "model = model.to(torch.device(0))\n",
    "\n",
    "# Init optimizer with model paraeters\n",
    "optimizer = torch.optim.Adam(model.parameters(), lr=1e-4)"
   ]
  },
  {
   "cell_type": "code",
   "execution_count": 13,
   "metadata": {},
   "outputs": [
    {
     "data": {
      "text/plain": [
       "0"
      ]
     },
     "execution_count": 13,
     "metadata": {},
     "output_type": "execute_result"
    }
   ],
   "source": [
    "# Check model device\n",
    "list(model.parameters())[0].get_device()"
   ]
  },
  {
   "cell_type": "code",
   "execution_count": 83,
   "metadata": {},
   "outputs": [],
   "source": [
    "# Loss for binary classification\n",
    "loss_func = F.binary_cross_entropy"
   ]
  },
  {
   "cell_type": "markdown",
   "metadata": {},
   "source": [
    "### Define training function for model\n",
    "\n",
    "training with gpu"
   ]
  },
  {
   "cell_type": "code",
   "execution_count": 84,
   "metadata": {},
   "outputs": [],
   "source": [
    "def fit(model, epochs, optimizer, loss_func, train_dl, valid_dl=None):\n",
    "    loss_history = []\n",
    "    acc_history = []\n",
    "    eval_loss_history = []\n",
    "    \n",
    "    for i in range(epochs):\n",
    "        epoch_loss = []\n",
    "        epoch_acc = []\n",
    "        for xb, yb in train_dl:\n",
    "            model.train()\n",
    "            \n",
    "            pred = model(xb.to(torch.device(0)))\n",
    "            loss = loss_func(pred, yb.to(torch.device(0)))\n",
    "            epoch_loss.append(loss.item())\n",
    "            epoch_acc.append(accuracy(pred, yb.to(torch.device(0))).item())\n",
    "            \n",
    "            loss.backward()\n",
    "            optimizer.step()\n",
    "            optimizer.zero_grad()\n",
    "        \n",
    "        loss_history.append(np.array(epoch_loss).mean())\n",
    "        acc_history.append(np.array(epoch_acc).mean())\n",
    "        eval_loss_str = ''\n",
    "        \n",
    "        if valid_dl is not None:\n",
    "            model.eval()    \n",
    "            with torch.no_grad():\n",
    "                eval_loss_history.append(np.mean([loss_func(model(xb.cuda()), yb.cuda()).item() for xb, yb in valid_dl]))\n",
    "            eval_loss_str = f'Eval loss: {eval_loss_history[-1]:.5}'\n",
    "            \n",
    "        print(f'Epoch {i+1}. Loss: {loss_history[-1]:.5}, Acc: {acc_history[-1]:.5}. ' + eval_loss_str)\n",
    "        \n",
    "    return (loss_history, acc_history, eval_loss_history)"
   ]
  },
  {
   "cell_type": "code",
   "execution_count": 85,
   "metadata": {},
   "outputs": [
    {
     "name": "stderr",
     "output_type": "stream",
     "text": [
      "<ipython-input-8-c0b960d54e2b>:14: UserWarning: Implicit dimension choice for softmax has been deprecated. Change the call to include dim=X as an argument.\n",
      "  return self.activation(y_out)\n"
     ]
    },
    {
     "name": "stdout",
     "output_type": "stream",
     "text": [
      "Epoch 1. Loss: 0.23668, Acc: 0.59683. Eval loss: 0.16837\n",
      "Epoch 2. Loss: 0.13493, Acc: 0.79249. Eval loss: 0.11303\n",
      "Epoch 3. Loss: 0.09911, Acc: 0.84396. Eval loss: 0.090605\n",
      "Epoch 4. Loss: 0.082815, Acc: 0.86704. Eval loss: 0.07882\n",
      "Epoch 5. Loss: 0.073531, Acc: 0.87947. Eval loss: 0.071443\n",
      "Epoch 6. Loss: 0.067479, Acc: 0.88862. Eval loss: 0.066553\n",
      "Epoch 7. Loss: 0.063228, Acc: 0.89553. Eval loss: 0.06306\n",
      "Epoch 8. Loss: 0.060139, Acc: 0.90078. Eval loss: 0.060439\n",
      "Epoch 9. Loss: 0.057722, Acc: 0.90393. Eval loss: 0.058542\n",
      "Epoch 10. Loss: 0.055877, Acc: 0.90731. Eval loss: 0.056779\n",
      "Epoch 11. Loss: 0.054331, Acc: 0.9088. Eval loss: 0.055637\n",
      "Epoch 12. Loss: 0.05314, Acc: 0.91126. Eval loss: 0.054499\n",
      "Epoch 13. Loss: 0.051999, Acc: 0.91337. Eval loss: 0.05371\n",
      "Epoch 14. Loss: 0.051085, Acc: 0.91437. Eval loss: 0.052828\n",
      "Epoch 15. Loss: 0.050299, Acc: 0.91533. Eval loss: 0.052169\n",
      "Epoch 16. Loss: 0.049544, Acc: 0.91721. Eval loss: 0.05159\n",
      "Epoch 17. Loss: 0.048903, Acc: 0.91841. Eval loss: 0.0511\n",
      "Epoch 18. Loss: 0.048324, Acc: 0.91908. Eval loss: 0.050623\n",
      "Epoch 19. Loss: 0.047789, Acc: 0.92081. Eval loss: 0.050216\n",
      "Epoch 20. Loss: 0.047288, Acc: 0.92084. Eval loss: 0.049888\n",
      "Epoch 21. Loss: 0.046949, Acc: 0.92158. Eval loss: 0.049463\n",
      "Epoch 22. Loss: 0.046439, Acc: 0.92214. Eval loss: 0.049269\n",
      "Epoch 23. Loss: 0.046071, Acc: 0.92341. Eval loss: 0.048927\n",
      "Epoch 24. Loss: 0.04576, Acc: 0.92353. Eval loss: 0.048756\n",
      "Epoch 25. Loss: 0.045392, Acc: 0.92431. Eval loss: 0.048416\n",
      "Epoch 26. Loss: 0.045129, Acc: 0.92447. Eval loss: 0.048283\n",
      "Epoch 27. Loss: 0.044773, Acc: 0.92574. Eval loss: 0.048099\n",
      "Epoch 28. Loss: 0.044493, Acc: 0.92595. Eval loss: 0.047915\n",
      "Epoch 29. Loss: 0.04424, Acc: 0.9271. Eval loss: 0.047746\n",
      "Epoch 30. Loss: 0.044003, Acc: 0.92715. Eval loss: 0.047587\n"
     ]
    }
   ],
   "source": [
    "loss_hist, acc_hist, eval_hist = fit(model, 30, optimizer, loss_func, train_dl, valid_dl)"
   ]
  },
  {
   "cell_type": "code",
   "execution_count": 86,
   "metadata": {},
   "outputs": [
    {
     "data": {
      "image/png": "[encoded data removed]",
      "text/plain": [
       "<Figure size 432x288 with 1 Axes>"
      ]
     },
     "metadata": {
      "needs_background": "light"
     },
     "output_type": "display_data"
    }
   ],
   "source": [
    "plt.plot(loss_hist, label='loss')\n",
    "plt.plot(eval_hist, label='eval loss', linestyle='dashed')\n",
    "plt.xlabel('epoch')\n",
    "plt.ylabel('loss')\n",
    "plt.legend()\n",
    "plt.show()"
   ]
  },
  {
   "cell_type": "code",
   "execution_count": 87,
   "metadata": {},
   "outputs": [
    {
     "data": {
      "text/plain": [
       "<matplotlib.legend.Legend at 0x1b50bea7700>"
      ]
     },
     "execution_count": 87,
     "metadata": {},
     "output_type": "execute_result"
    },
    {
     "data": {
      "image/png": "[encoded data removed]",
      "text/plain": [
       "<Figure size 432x288 with 1 Axes>"
      ]
     },
     "metadata": {
      "needs_background": "light"
     },
     "output_type": "display_data"
    }
   ],
   "source": [
    "plt.plot(acc_hist, label='accuracy', color='g')\n",
    "plt.xlabel('epoch')\n",
    "plt.ylabel('accuracy')\n",
    "plt.legend()"
   ]
  },
  {
   "cell_type": "markdown",
   "metadata": {},
   "source": [
    "### Use validation data for training"
   ]
  },
  {
   "cell_type": "code",
   "execution_count": 89,
   "metadata": {},
   "outputs": [
    {
     "name": "stderr",
     "output_type": "stream",
     "text": [
      "<ipython-input-8-c0b960d54e2b>:14: UserWarning: Implicit dimension choice for softmax has been deprecated. Change the call to include dim=X as an argument.\n",
      "  return self.activation(y_out)\n"
     ]
    },
    {
     "name": "stdout",
     "output_type": "stream",
     "text": [
      "Epoch 1. Loss: 0.04755, Acc: 0.92112. \n",
      "Epoch 2. Loss: 0.047204, Acc: 0.92178. \n",
      "Epoch 3. Loss: 0.046918, Acc: 0.92225. \n",
      "Epoch 4. Loss: 0.046649, Acc: 0.92311. \n",
      "Epoch 5. Loss: 0.046393, Acc: 0.92367. \n",
      "Epoch 6. Loss: 0.046146, Acc: 0.92462. \n",
      "Epoch 7. Loss: 0.045908, Acc: 0.92491. \n",
      "Epoch 8. Loss: 0.045678, Acc: 0.92538. \n",
      "Epoch 9. Loss: 0.045455, Acc: 0.92547. \n",
      "Epoch 10. Loss: 0.045239, Acc: 0.92585. \n"
     ]
    }
   ],
   "source": [
    "loss_hist, acc_hist, eval_hist = fit(model, 10, optimizer, loss_func, valid_dl)"
   ]
  },
  {
   "cell_type": "code",
   "execution_count": 90,
   "metadata": {},
   "outputs": [],
   "source": [
    "torch.save(model, 'mnist_classifier.pt')  # shoeld use .pt extension"
   ]
  }
 ],
 "metadata": {
  "kernelspec": {
   "display_name": "Python [conda env:torch_env] *",
   "language": "python",
   "name": "conda-env-torch_env-py"
  },
  "language_info": {
   "codemirror_mode": {
    "name": "ipython",
    "version": 3
   },
   "file_extension": ".py",
   "mimetype": "text/x-python",
   "name": "python",
   "nbconvert_exporter": "python",
   "pygments_lexer": "ipython3",
   "version": "3.8.5"
  }
 },
 "nbformat": 4,
 "nbformat_minor": 4
}
